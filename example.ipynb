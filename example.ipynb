{
 "cells": [
  {
   "cell_type": "markdown",
   "metadata": {},
   "source": [
    "The main idea of avoiding of redundant constants is in using Strongly Typed Genetic Programming as Loosely Typed. \n",
    "\n",
    "There are two types of terminals. The first one is variable (hybgp.types.Var). Arguments of PrimitiveTree object are variables, for example. The second type is constant (hybgp.types.Const). They are produced automaticly in appropriate places by the hybgp.egp.generate function. For example, we obtain only $c_1 x + c_2 y + c_3$ instead of $x + y$ when we use hybgp.egp.generate function.\n",
    "\n",
    "There are two more type of primitives. They aren't used like terminals but used like nodes. The first one is weighted type (hybgp.types.Weighted). Intuitively, it is a dimensionless value like $a x$, where $x$ has the variable type. The second is weighted-shifted type (hybgp.types.WSed). Intuitively, it is a weighted value which was shifted by adding a constant: $a x + b$.\n",
    "\n",
    "Types of arguments of PrimitiveTree are not fixed (Loosely Typed GP). It could be np.array, int, etc. On the other hand types are constrained by Var, Const, Weighted, WSed relations (Strongly Typed GP)."
   ]
  },
  {
   "cell_type": "markdown",
   "metadata": {},
   "source": [
    "We should use hybgp.operators.add and hybgp.operators.mul operators since these names are readable for SymPy and used in the generate function. (# add) and (# mul) blocks repeat in almost every cases."
   ]
  },
  {
   "cell_type": "code",
   "execution_count": 1,
   "metadata": {},
   "outputs": [
    {
     "name": "stderr",
     "output_type": "stream",
     "text": [
      "/home/shmax3/Desktop/deap/lib/python3.6/site-packages/deap/tools/_hypervolume/pyhv.py:33: ImportWarning: Falling back to the python version of hypervolume module. Expect this to be very slow.\n",
      "  \"module. Expect this to be very slow.\", ImportWarning)\n"
     ]
    }
   ],
   "source": [
    "from deap import gp\n",
    "import numpy as np\n",
    "from hybgp.types import Const, Var, WSed, Weighted\n",
    "from hybgp.operators import mul, add\n",
    "\n",
    "\n",
    "pset = gp.PrimitiveSetTyped(\"MAIN\", [Var], WSed, prefix='x')\n",
    "\n",
    "# add\n",
    "pset.addPrimitive(add, [Weighted, Const], WSed)\n",
    "pset.addPrimitive(add, [Weighted, Weighted], Weighted)\n",
    "\n",
    "# mul\n",
    "pset.addPrimitive(mul, [Const, Var], Weighted)\n",
    "pset.addPrimitive(mul, [Var, Var], Var)\n",
    "\n",
    "# exp\n",
    "pset.addPrimitive(np.exp, [Weighted], Var)\n",
    "\n",
    "# sin\n",
    "pset.addPrimitive(np.sin, [Weighted], Var)"
   ]
  },
  {
   "cell_type": "markdown",
   "metadata": {},
   "source": [
    "Standart initialization of DEAP toolbox instead of moments when we use hybgp.egp."
   ]
  },
  {
   "cell_type": "code",
   "execution_count": 2,
   "metadata": {},
   "outputs": [],
   "source": [
    "from deap import creator, base, tools\n",
    "from hybgp import egp\n",
    "\n",
    "    \n",
    "creator.create(\"FitnessMin\", base.Fitness, weights=(-1.0,))\n",
    "creator.create(\"Individual\", egp.PrimitiveTree, fitness=creator.FitnessMin,\n",
    "               pset=pset)\n",
    "toolbox = base.Toolbox()\n",
    "toolbox.register(\"expr\", egp.generate, pset=pset, min_=1, max_=3)\n",
    "toolbox.register(\"individual\", tools.initIterate, creator.Individual,\n",
    "                 toolbox.expr)\n",
    "toolbox.register(\"population\", tools.initRepeat, list, toolbox.individual)\n",
    "toolbox.register(\"compile\", egp.compile, pset=pset)"
   ]
  },
  {
   "cell_type": "markdown",
   "metadata": {},
   "source": [
    "Let the prior best solution of the task as PrimitiveTree be"
   ]
  },
  {
   "cell_type": "code",
   "execution_count": 3,
   "metadata": {},
   "outputs": [
    {
     "data": {
      "text/latex": [
       "$\\displaystyle 2 \\sin{\\left (0.5 x_{0} \\right )} + 1$"
      ],
      "text/plain": [
       "<IPython.core.display.Math object>"
      ]
     },
     "execution_count": 3,
     "metadata": {},
     "output_type": "execute_result"
    }
   ],
   "source": [
    "from IPython.display import Math\n",
    "\n",
    "prior_best = egp.PrimitiveTree([gp.Primitive('Add', [Weighted, Const], WSed),\n",
    "                                gp.Primitive('Mul', [Const, Var], Weighted),\n",
    "                                gp.Primitive('sin', [Weighted], Var),\n",
    "                                gp.Primitive('Mul', [Const, Var], Weighted),\n",
    "                                Const(0.5),\n",
    "                                pset.terminals[Var][0],\n",
    "                                Const(2),\n",
    "                                Const(1)])\n",
    "\n",
    "Math(prior_best.latex(False))"
   ]
  },
  {
   "cell_type": "code",
   "execution_count": 4,
   "metadata": {},
   "outputs": [],
   "source": [
    "import numpy as np\n",
    "\n",
    "X = np.linspace(0, 10, 100)\n",
    "Y = toolbox.compile(prior_best)(X) + np.random.normal(0, 0.1, 100)\n",
    "\n",
    "target = Y\n",
    "args = (X,)"
   ]
  },
  {
   "cell_type": "code",
   "execution_count": 5,
   "metadata": {},
   "outputs": [
    {
     "name": "stderr",
     "output_type": "stream",
     "text": [
      "/home/shmax3/Desktop/deap/lib/python3.6/importlib/_bootstrap.py:219: ImportWarning: can't resolve package from __spec__ or __package__, falling back on __name__ and __path__\n",
      "  return f(*args, **kwds)\n"
     ]
    }
   ],
   "source": [
    "import operator\n",
    "\n",
    "import inspect\n",
    "import functools\n",
    "\n",
    "from scipy.optimize import minimize\n",
    "from hybgp.evaluators import linear_evaluator \n",
    "from hybgp.metrics import mse, parameters_num\n",
    "from hybgp.adapters import scipy_minimize_adapter\n",
    "\n",
    "\n",
    "optimizer = functools.partial(scipy_minimize_adapter(minimize),\n",
    "                              method='SLSQP',\n",
    "                              options={'maxiter': 100})\n",
    "\n",
    "def metric(params, func, args, target):\n",
    "    return mse(params, func, args, target)\n",
    "\n",
    "evaluate = linear_evaluator(metric, (args, target), optimizer, toolbox)\n",
    "\n",
    "toolbox.register(\"evaluate\", evaluate)\n",
    "toolbox.register(\"select\", tools.selTournament, tournsize=3)\n",
    "toolbox.register(\"mate\", gp.cxOnePoint)\n",
    "toolbox.register(\"expr_mut\", egp.generate, pset=pset, min_=0, max_=2)\n",
    "toolbox.register(\"mutate\", gp.mutUniform, expr=toolbox.expr_mut, pset=pset)\n",
    "\n",
    "toolbox.decorate(\"mate\", gp.staticLimit(key=operator.attrgetter(\"height\"), max_value=5))\n",
    "toolbox.decorate(\"mutate\", gp.staticLimit(key=operator.attrgetter(\"height\"), max_value=5))"
   ]
  },
  {
   "cell_type": "code",
   "execution_count": 6,
   "metadata": {},
   "outputs": [],
   "source": [
    "stats = tools.Statistics(lambda ind: ind.fitness.values)\n",
    "stats.register(\"avg\", np.mean)\n",
    "stats.register(\"min\", np.min)\n",
    "stats.register(\"max\", np.max)"
   ]
  },
  {
   "cell_type": "code",
   "execution_count": 7,
   "metadata": {
    "scrolled": false
   },
   "outputs": [
    {
     "name": "stdout",
     "output_type": "stream",
     "text": [
      "gen\tnevals\tavg     \tmin     \tmax    \n",
      "0  \t299   \t0.779806\t0.382933\t2.03101\n",
      "1  \t253   \t0.722181\t0.382933\t2.03101\n",
      "2  \t251   \t0.682013\t0.382933\t0.72425\n"
     ]
    },
    {
     "name": "stderr",
     "output_type": "stream",
     "text": [
      "<string>:1: RuntimeWarning: overflow encountered in exp\n",
      "/home/shmax3/Desktop/deap/hybgp/hybgp/metrics.py:16: RuntimeWarning: overflow encountered in square\n",
      "  return (np.square(val - target) / sigma2).mean()\n"
     ]
    },
    {
     "name": "stdout",
     "output_type": "stream",
     "text": [
      "3  \t245   \t0.616825\t0.35325 \t2.03101\n"
     ]
    },
    {
     "name": "stderr",
     "output_type": "stream",
     "text": [
      "/home/shmax3/Desktop/deap/hybgp/hybgp/decorators.py:8: RuntimeWarning: overflow encountered in multiply\n",
      "  return func(*args, **kwargs)\n"
     ]
    },
    {
     "name": "stdout",
     "output_type": "stream",
     "text": [
      "4  \t238   \t0.537384\t0.35325 \t3.65574\n",
      "5  \t262   \t0.470152\t0.35325 \t3.65574\n",
      "6  \t250   \t0.429497\t0.35325 \t3.65446\n",
      "7  \t255   \t0.474016\t0.35325 \t3.65574\n",
      "8  \t248   \t0.483595\t0.0607305\t3.65446\n"
     ]
    },
    {
     "name": "stderr",
     "output_type": "stream",
     "text": [
      "/home/shmax3/Desktop/deap/lib/python3.6/site-packages/scipy/optimize/slsqp.py:63: RuntimeWarning: invalid value encountered in subtract\n",
      "  jac[i] = (func(*((x0+dx,)+args)) - f0)/epsilon\n"
     ]
    },
    {
     "name": "stdout",
     "output_type": "stream",
     "text": [
      "9  \t246   \t0.464881\t0.0607305\t3.6701 \n",
      "10 \t242   \t0.415086\t0.0607305\t3.65446\n",
      "11 \t241   \t0.486524\t0.0607305\t3.65446\n",
      "12 \t248   \t0.419389\t0.0607305\t3.65446\n",
      "13 \t252   \t0.460519\t0.0607305\t3.65446\n",
      "14 \t251   \t0.466212\t0.0607305\t3.65446\n",
      "15 \t241   \t0.438371\t0.0607305\t3.65446\n",
      "16 \t240   \t0.481904\t0.0607305\t3.65446\n",
      "17 \t244   \t0.447325\t0.0607305\t3.65446\n",
      "18 \t236   \t0.492772\t0.00947638\t3.65446\n",
      "19 \t252   \t0.434524\t0.00947634\t3.65446\n",
      "20 \t253   \t0.474529\t0.00947632\t3.65574\n"
     ]
    }
   ],
   "source": [
    "from deap import algorithms\n",
    "\n",
    "pop = toolbox.population(n=299)\n",
    "\n",
    "hof = tools.HallOfFame(5)\n",
    "try:\n",
    "    pop, log = algorithms.eaSimple(pop, toolbox, 0.8, 0.1, 20, stats=stats,\n",
    "                                   halloffame=hof, verbose=True)\n",
    "except KeyboardInterrupt:\n",
    "    pass"
   ]
  },
  {
   "cell_type": "code",
   "execution_count": 9,
   "metadata": {},
   "outputs": [
    {
     "data": {
      "image/png": "[encoded data removed]",
      "text/plain": [
       "<Figure size 432x288 with 1 Axes>"
      ]
     },
     "metadata": {
      "needs_background": "light"
     },
     "output_type": "display_data"
    },
    {
     "data": {
      "text/latex": [
       "$\\displaystyle 1.988 e^{0.001 x_{0}} \\sin{\\left (0.5 x_{0} \\right )} + 1.009$"
      ],
      "text/plain": [
       "<IPython.core.display.Math object>"
      ]
     },
     "execution_count": 9,
     "metadata": {},
     "output_type": "execute_result"
    }
   ],
   "source": [
    "from sklearn.metrics import mean_squared_error\n",
    "from matplotlib import pyplot as plt\n",
    "%matplotlib inline\n",
    "\n",
    "\n",
    "func_true = toolbox.compile(prior_best)\n",
    "best = hof[0]\n",
    "func_gp = toolbox.compile(best)\n",
    "\n",
    "plt.plot(X, Y, color='black', label=f'Noised')\n",
    "plt.plot(X, func_true(X), color='green',\n",
    "         label=f'True, MSE = {mse([], func_true, args, target):.3f}')\n",
    "plt.plot(X, func_gp(*best.parameters.values(), *args), color='red',\n",
    "         label=f'LO GP result, MSE = {mse(best.parameters.values(), func_gp, args, target):.3f}')\n",
    "plt.legend()\n",
    "plt.show()\n",
    "Math(best.latex())"
   ]
  },
  {
   "cell_type": "code",
   "execution_count": null,
   "metadata": {},
   "outputs": [],
   "source": []
  }
 ],
 "metadata": {
  "kernelspec": {
   "display_name": "Python 3",
   "language": "python",
   "name": "python3"
  },
  "language_info": {
   "codemirror_mode": {
    "name": "ipython",
    "version": 3
   },
   "file_extension": ".py",
   "mimetype": "text/x-python",
   "name": "python",
   "nbconvert_exporter": "python",
   "pygments_lexer": "ipython3",
   "version": "3.6.7"
  }
 },
 "nbformat": 4,
 "nbformat_minor": 2
}
